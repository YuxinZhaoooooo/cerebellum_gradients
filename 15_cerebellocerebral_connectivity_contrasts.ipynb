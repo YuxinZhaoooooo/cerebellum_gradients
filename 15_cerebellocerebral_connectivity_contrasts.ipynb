{
 "cells": [
  {
   "cell_type": "code",
   "execution_count": 43,
   "metadata": {
    "collapsed": true
   },
   "outputs": [],
   "source": [
    "import nibabel as nib\n",
    "import glob\n",
    "import sys\n",
    "sys.path.append('gradient_data/src/')\n",
    "import os\n",
    "import scipy.stats\n",
    "import numpy as np\n",
    "import statsmodels.sandbox.stats.multicomp\n",
    "import nibabel as nib"
   ]
  },
  {
   "cell_type": "code",
   "execution_count": null,
   "metadata": {
    "collapsed": true
   },
   "outputs": [],
   "source": [
    "### Comparison of cerebello-cerebral connectivity between cerebellar Gradient 1 and 2 peaks at each area of\n",
    "### motor and nonmotor representation was calculated as follows:\n",
    "### 1) Using workbench view, save dscalar map of connectivity from peak of each Gradient (e.g. \"L2midcog_fconn1003subjects.dscalar.nii\")\n",
    "### 2) Using workbench view, annotate correlation values between seeds:\n",
    "###                           Fisher_z\n",
    "### R1mot R2mot               0.231264\n",
    "### L1mot L2mot               0.23966\n",
    "### R12highcog R3highcog      0.313801\n",
    "### L12highcog L3highcog      0.370525\n",
    "### R1midcog R2midcog         0.450554\n",
    "### L1midcog L2midcog         0.330115\n",
    "### R1midcog R3midcog         0.330242\n",
    "### L1midcog L3midcog         0.222103\n",
    "### R1midcog R3midcog_alt     0.245531\n",
    "### L1midcog L3midcog_alt     0.336851\n",
    "### R2midcog R3midcog         0.276653\n",
    "### L2midcog L3midcog         0.154236\n",
    "### R2midcog R3midcog_alt     0.188767\n",
    "### L2midcog L3midcog_alt     0.218249\n",
    "### \"Alt\" refers to peak of Gradient 2 in lobule IX if peak was in lobule X, and vice versa. These values were\n",
    "### not included in the final analysis\n",
    "### 3) Contrast r values between seeds using the equations from Meng et al., 1992:\n",
    "### wb_command -cifti-math '((var_zr1)-(var_zr2))*((sqrt(1003-3))/(2*(1-0.301)*((1-(((1-0.301)/(2*(1-(((tanh(var_zr1)^2)+(tanh(var_zr2)^2))/2)))+((1-0.301)/(2*(1-((( tanh(var_zr1)^2)+( tanh(var_zr2)^2))/2)))>1)*(1-(1-0.301)/(2*(1-(((tanh(var_zr1)^2)+(tanh(var_zr2)^2))/2))))))*((( tanh(var_zr1)^2)+( tanh(var_zr2)^2))/2))/(1-(((tanh(var_zr1)^2)+(tanh(var_zr2)^2))/2)))))' comparison_L2midcog_vs_L1midcog_1003subjects.dscalar.nii -var var_zr1 L2midcog_fconn1003subjects.dscalar.nii -var var_zr2 L1midcog_fconn1003subjects.dscalar.nii\n",
    "### Substitute 0.301 with each particular correlation value between seeds. Note that z values have to be converted to r values (e.g. L1midcog L2midcog z=0.330115 corresponds to r=0.301)\n",
    "### 4) Correct comparison maps with FDR as follows:"
   ]
  },
  {
   "cell_type": "code",
   "execution_count": 36,
   "metadata": {
    "collapsed": true
   },
   "outputs": [],
   "source": [
    "directory = 'xxx' ### write directory with comparison maps here\n",
    "files = os.listdir(directory)"
   ]
  },
  {
   "cell_type": "code",
   "execution_count": 52,
   "metadata": {},
   "outputs": [
    {
     "name": "stdout",
     "output_type": "stream",
     "text": [
      "comparison_L2midnonmotor_vs_L1midnonmotor.dscalar.nii\n",
      "comparison_L2motor_vs_L1motor.dscalar.nii\n",
      "comparison_L3highnonmotor_vs_L12highnonmotor.dscalar.nii\n",
      "comparison_L3midnonmotoraltX_vs_L1midnonmotor.dscalar.nii\n",
      "comparison_L3midnonmotoraltX_vs_L2midnonmotor.dscalar.nii\n",
      "comparison_L3midnonmotorIX_vs_L1midnonmotor.dscalar.nii\n",
      "comparison_L3midnonmotorIX_vs_L2midnonmotor.dscalar.nii\n",
      "comparison_R2midnonmotor_vs_R1midnonmotor.dscalar.nii\n",
      "comparison_R2motor_vs_R1motor.dscalar.nii\n",
      "comparison_R3highnonmotor_vs_R12highnonmotor.dscalar.nii\n",
      "comparison_R3midnonmotoraltIX_vs_R1midnonmotor.dscalar.nii\n",
      "comparison_R3midnonmotoraltIX_vs_R2midnonmotor.dscalar.nii\n",
      "comparison_R3midnonmotorX_vs_R1midnonmotor.dscalar.nii\n",
      "comparison_R3midnonmotorX_vs_R2midnonmotor.dscalar.nii\n"
     ]
    }
   ],
   "source": [
    "### Check that files are loaded\n",
    "for x in files:\n",
    "    if x.endswith('motor.dscalar.nii'):\n",
    "        print(x)"
   ]
  },
  {
   "cell_type": "code",
   "execution_count": 42,
   "metadata": {},
   "outputs": [
    {
     "name": "stdout",
     "output_type": "stream",
     "text": [
      "calculating:    comparison_L2midnonmotor_vs_L1midnonmotor.dscalar.nii\n",
      "finished calculating:    comparison_L2midnonmotor_vs_L1midnonmotor.dscalar.nii\n",
      "calculating:    comparison_L2motor_vs_L1motor.dscalar.nii\n",
      "finished calculating:    comparison_L2motor_vs_L1motor.dscalar.nii\n",
      "calculating:    comparison_L3highnonmotor_vs_L12highnonmotor.dscalar.nii\n",
      "finished calculating:    comparison_L3highnonmotor_vs_L12highnonmotor.dscalar.nii\n",
      "calculating:    comparison_L3midnonmotoraltX_vs_L1midnonmotor.dscalar.nii\n",
      "finished calculating:    comparison_L3midnonmotoraltX_vs_L1midnonmotor.dscalar.nii\n",
      "calculating:    comparison_L3midnonmotoraltX_vs_L2midnonmotor.dscalar.nii\n",
      "finished calculating:    comparison_L3midnonmotoraltX_vs_L2midnonmotor.dscalar.nii\n",
      "calculating:    comparison_L3midnonmotorIX_vs_L1midnonmotor.dscalar.nii\n",
      "finished calculating:    comparison_L3midnonmotorIX_vs_L1midnonmotor.dscalar.nii\n",
      "calculating:    comparison_L3midnonmotorIX_vs_L2midnonmotor.dscalar.nii\n",
      "finished calculating:    comparison_L3midnonmotorIX_vs_L2midnonmotor.dscalar.nii\n",
      "calculating:    comparison_R2midnonmotor_vs_R1midnonmotor.dscalar.nii\n",
      "finished calculating:    comparison_R2midnonmotor_vs_R1midnonmotor.dscalar.nii\n",
      "calculating:    comparison_R2motor_vs_R1motor.dscalar.nii\n",
      "finished calculating:    comparison_R2motor_vs_R1motor.dscalar.nii\n",
      "calculating:    comparison_R3highnonmotor_vs_R12highnonmotor.dscalar.nii\n",
      "finished calculating:    comparison_R3highnonmotor_vs_R12highnonmotor.dscalar.nii\n",
      "calculating:    comparison_R3midnonmotoraltIX_vs_R1midnonmotor.dscalar.nii\n",
      "finished calculating:    comparison_R3midnonmotoraltIX_vs_R1midnonmotor.dscalar.nii\n",
      "calculating:    comparison_R3midnonmotoraltIX_vs_R2midnonmotor.dscalar.nii\n",
      "finished calculating:    comparison_R3midnonmotoraltIX_vs_R2midnonmotor.dscalar.nii\n",
      "calculating:    comparison_R3midnonmotorX_vs_R1midnonmotor.dscalar.nii\n",
      "finished calculating:    comparison_R3midnonmotorX_vs_R1midnonmotor.dscalar.nii\n",
      "calculating:    comparison_R3midnonmotorX_vs_R2midnonmotor.dscalar.nii\n",
      "finished calculating:    comparison_R3midnonmotorX_vs_R2midnonmotor.dscalar.nii\n"
     ]
    }
   ],
   "source": [
    "for x in files:\n",
    "    if x.endswith('dscalar.nii'):\n",
    "        print('calculating:    ' + x)\n",
    "        zvalues = nib.load(x).get_data()\n",
    "        pvals = scipy.stats.norm.sf(zvalues)\n",
    "        pvals = pvals.T\n",
    "        pvals_onlycortex = pvals[0:59411] ### This selects values only from the cortex\n",
    "        pvals_onlycortex = pvals_onlycortex.T\n",
    "        pvals_onlycortex_FDR = statsmodels.sandbox.stats.multicomp.multipletests(pvals_onlycortex[0], alpha=0.05, method='fdr_bh', is_sorted=False, returnsorted=False)\n",
    "        ### Put cortical FDR corrected p values back to the original pvals matrix\n",
    "        pvals_onlycortex_FDR[1].shape = (59411, 1)\n",
    "        pvals[0:59411] = pvals_onlycortex_FDR[1]\n",
    "        np.save(x + '_pvalues_onetailedcortexonly_FDR.npy', pvals.T[0])\n",
    "        print('finished calculating:    ' + x)"
   ]
  },
  {
   "cell_type": "code",
   "execution_count": 54,
   "metadata": {},
   "outputs": [
    {
     "name": "stderr",
     "output_type": "stream",
     "text": [
      "pixdim[1,2,3] should be non-zero; setting 0 dims to 1\n",
      "pixdim[1,2,3] should be non-zero; setting 0 dims to 1\n"
     ]
    },
    {
     "name": "stdout",
     "output_type": "stream",
     "text": [
      "(0, 0, 'CIFTI_STRUCTURE_CORTEX_LEFT')\n",
      "(1, 29696, 'CIFTI_STRUCTURE_CORTEX_RIGHT')\n",
      "(2, 59412, 'CIFTI_STRUCTURE_ACCUMBENS_LEFT')\n",
      "(3, 59547, 'CIFTI_STRUCTURE_ACCUMBENS_RIGHT')\n",
      "(4, 59687, 'CIFTI_STRUCTURE_AMYGDALA_LEFT')\n",
      "(5, 60002, 'CIFTI_STRUCTURE_AMYGDALA_RIGHT')\n",
      "(6, 60334, 'CIFTI_STRUCTURE_BRAIN_STEM')\n",
      "(7, 63806, 'CIFTI_STRUCTURE_CAUDATE_LEFT')\n",
      "(8, 64534, 'CIFTI_STRUCTURE_CAUDATE_RIGHT')\n",
      "(9, 65289, 'CIFTI_STRUCTURE_CEREBELLUM_LEFT')\n",
      "(10, 73998, 'CIFTI_STRUCTURE_CEREBELLUM_RIGHT')\n",
      "(11, 83142, 'CIFTI_STRUCTURE_DIENCEPHALON_VENTRAL_LEFT')\n",
      "(12, 83848, 'CIFTI_STRUCTURE_DIENCEPHALON_VENTRAL_RIGHT')\n",
      "(13, 84560, 'CIFTI_STRUCTURE_HIPPOCAMPUS_LEFT')\n",
      "(14, 85324, 'CIFTI_STRUCTURE_HIPPOCAMPUS_RIGHT')\n",
      "(15, 86119, 'CIFTI_STRUCTURE_PALLIDUM_LEFT')\n"
     ]
    },
    {
     "name": "stderr",
     "output_type": "stream",
     "text": [
      "pixdim[1,2,3] should be non-zero; setting 0 dims to 1\n",
      "pixdim[1,2,3] should be non-zero; setting 0 dims to 1\n"
     ]
    },
    {
     "name": "stdout",
     "output_type": "stream",
     "text": [
      "(16, 86416, 'CIFTI_STRUCTURE_PALLIDUM_RIGHT')\n",
      "(17, 86676, 'CIFTI_STRUCTURE_PUTAMEN_LEFT')\n",
      "(18, 87736, 'CIFTI_STRUCTURE_PUTAMEN_RIGHT')\n",
      "(19, 88746, 'CIFTI_STRUCTURE_THALAMUS_LEFT')\n",
      "(20, 90034, 'CIFTI_STRUCTURE_THALAMUS_RIGHT')\n",
      "(0, 0, 'CIFTI_STRUCTURE_CORTEX_LEFT')\n",
      "(1, 29696, 'CIFTI_STRUCTURE_CORTEX_RIGHT')\n",
      "(2, 59412, 'CIFTI_STRUCTURE_ACCUMBENS_LEFT')\n",
      "(3, 59547, 'CIFTI_STRUCTURE_ACCUMBENS_RIGHT')\n",
      "(4, 59687, 'CIFTI_STRUCTURE_AMYGDALA_LEFT')\n",
      "(5, 60002, 'CIFTI_STRUCTURE_AMYGDALA_RIGHT')\n",
      "(6, 60334, 'CIFTI_STRUCTURE_BRAIN_STEM')\n",
      "(7, 63806, 'CIFTI_STRUCTURE_CAUDATE_LEFT')\n",
      "(8, 64534, 'CIFTI_STRUCTURE_CAUDATE_RIGHT')\n",
      "(9, 65289, 'CIFTI_STRUCTURE_CEREBELLUM_LEFT')\n",
      "(10, 73998, 'CIFTI_STRUCTURE_CEREBELLUM_RIGHT')\n",
      "(11, 83142, 'CIFTI_STRUCTURE_DIENCEPHALON_VENTRAL_LEFT')\n",
      "(12, 83848, 'CIFTI_STRUCTURE_DIENCEPHALON_VENTRAL_RIGHT')\n",
      "(13, 84560, 'CIFTI_STRUCTURE_HIPPOCAMPUS_LEFT')\n",
      "(14, 85324, 'CIFTI_STRUCTURE_HIPPOCAMPUS_RIGHT')\n",
      "(15, 86119, 'CIFTI_STRUCTURE_PALLIDUM_LEFT')"
     ]
    },
    {
     "name": "stderr",
     "output_type": "stream",
     "text": [
      "pixdim[1,2,3] should be non-zero; setting 0 dims to 1\n",
      "pixdim[1,2,3] should be non-zero; setting 0 dims to 1\n"
     ]
    },
    {
     "name": "stdout",
     "output_type": "stream",
     "text": [
      "\n",
      "(16, 86416, 'CIFTI_STRUCTURE_PALLIDUM_RIGHT')\n",
      "(17, 86676, 'CIFTI_STRUCTURE_PUTAMEN_LEFT')\n",
      "(18, 87736, 'CIFTI_STRUCTURE_PUTAMEN_RIGHT')\n",
      "(19, 88746, 'CIFTI_STRUCTURE_THALAMUS_LEFT')\n",
      "(20, 90034, 'CIFTI_STRUCTURE_THALAMUS_RIGHT')\n",
      "(0, 0, 'CIFTI_STRUCTURE_CORTEX_LEFT')\n",
      "(1, 29696, 'CIFTI_STRUCTURE_CORTEX_RIGHT')\n",
      "(2, 59412, 'CIFTI_STRUCTURE_ACCUMBENS_LEFT')\n",
      "(3, 59547, 'CIFTI_STRUCTURE_ACCUMBENS_RIGHT')\n",
      "(4, 59687, 'CIFTI_STRUCTURE_AMYGDALA_LEFT')\n",
      "(5, 60002, 'CIFTI_STRUCTURE_AMYGDALA_RIGHT')\n",
      "(6, 60334, 'CIFTI_STRUCTURE_BRAIN_STEM')\n",
      "(7, 63806, 'CIFTI_STRUCTURE_CAUDATE_LEFT')\n",
      "(8, 64534, 'CIFTI_STRUCTURE_CAUDATE_RIGHT')\n",
      "(9, 65289, 'CIFTI_STRUCTURE_CEREBELLUM_LEFT')\n",
      "(10, 73998, 'CIFTI_STRUCTURE_CEREBELLUM_RIGHT')\n",
      "(11, 83142, 'CIFTI_STRUCTURE_DIENCEPHALON_VENTRAL_LEFT')\n",
      "(12, 83848, 'CIFTI_STRUCTURE_DIENCEPHALON_VENTRAL_RIGHT')\n",
      "(13, 84560, 'CIFTI_STRUCTURE_HIPPOCAMPUS_LEFT')\n",
      "(14, 85324, 'CIFTI_STRUCTURE_HIPPOCAMPUS_RIGHT')\n",
      "(15, 86119, 'CIFTI_STRUCTURE_PALLIDUM_LEFT')\n",
      "(16, 86416, 'CIFTI_STRUCTURE_PALLIDUM_RIGHT')"
     ]
    },
    {
     "name": "stderr",
     "output_type": "stream",
     "text": [
      "pixdim[1,2,3] should be non-zero; setting 0 dims to 1\n",
      "pixdim[1,2,3] should be non-zero; setting 0 dims to 1\n"
     ]
    },
    {
     "name": "stdout",
     "output_type": "stream",
     "text": [
      "\n",
      "(17, 86676, 'CIFTI_STRUCTURE_PUTAMEN_LEFT')\n",
      "(18, 87736, 'CIFTI_STRUCTURE_PUTAMEN_RIGHT')\n",
      "(19, 88746, 'CIFTI_STRUCTURE_THALAMUS_LEFT')\n",
      "(20, 90034, 'CIFTI_STRUCTURE_THALAMUS_RIGHT')\n",
      "(0, 0, 'CIFTI_STRUCTURE_CORTEX_LEFT')\n",
      "(1, 29696, 'CIFTI_STRUCTURE_CORTEX_RIGHT')\n",
      "(2, 59412, 'CIFTI_STRUCTURE_ACCUMBENS_LEFT')\n",
      "(3, 59547, 'CIFTI_STRUCTURE_ACCUMBENS_RIGHT')\n",
      "(4, 59687, 'CIFTI_STRUCTURE_AMYGDALA_LEFT')\n",
      "(5, 60002, 'CIFTI_STRUCTURE_AMYGDALA_RIGHT')\n",
      "(6, 60334, 'CIFTI_STRUCTURE_BRAIN_STEM')\n",
      "(7, 63806, 'CIFTI_STRUCTURE_CAUDATE_LEFT')\n",
      "(8, 64534, 'CIFTI_STRUCTURE_CAUDATE_RIGHT')\n",
      "(9, 65289, 'CIFTI_STRUCTURE_CEREBELLUM_LEFT')\n",
      "(10, 73998, 'CIFTI_STRUCTURE_CEREBELLUM_RIGHT')\n",
      "(11, 83142, 'CIFTI_STRUCTURE_DIENCEPHALON_VENTRAL_LEFT')"
     ]
    },
    {
     "name": "stderr",
     "output_type": "stream",
     "text": [
      "pixdim[1,2,3] should be non-zero; setting 0 dims to 1\n",
      "pixdim[1,2,3] should be non-zero; setting 0 dims to 1\n"
     ]
    },
    {
     "name": "stdout",
     "output_type": "stream",
     "text": [
      "\n",
      "(12, 83848, 'CIFTI_STRUCTURE_DIENCEPHALON_VENTRAL_RIGHT')\n",
      "(13, 84560, 'CIFTI_STRUCTURE_HIPPOCAMPUS_LEFT')\n",
      "(14, 85324, 'CIFTI_STRUCTURE_HIPPOCAMPUS_RIGHT')\n",
      "(15, 86119, 'CIFTI_STRUCTURE_PALLIDUM_LEFT')\n",
      "(16, 86416, 'CIFTI_STRUCTURE_PALLIDUM_RIGHT')\n",
      "(17, 86676, 'CIFTI_STRUCTURE_PUTAMEN_LEFT')\n",
      "(18, 87736, 'CIFTI_STRUCTURE_PUTAMEN_RIGHT')\n",
      "(19, 88746, 'CIFTI_STRUCTURE_THALAMUS_LEFT')\n",
      "(20, 90034, 'CIFTI_STRUCTURE_THALAMUS_RIGHT')\n",
      "(0, 0, 'CIFTI_STRUCTURE_CORTEX_LEFT')\n",
      "(1, 29696, 'CIFTI_STRUCTURE_CORTEX_RIGHT')\n",
      "(2, 59412, 'CIFTI_STRUCTURE_ACCUMBENS_LEFT')\n",
      "(3, 59547, 'CIFTI_STRUCTURE_ACCUMBENS_RIGHT')\n",
      "(4, 59687, 'CIFTI_STRUCTURE_AMYGDALA_LEFT')\n",
      "(5, 60002, 'CIFTI_STRUCTURE_AMYGDALA_RIGHT')\n",
      "(6, 60334, 'CIFTI_STRUCTURE_BRAIN_STEM')\n",
      "(7, 63806, 'CIFTI_STRUCTURE_CAUDATE_LEFT')\n",
      "(8, 64534, 'CIFTI_STRUCTURE_CAUDATE_RIGHT')\n",
      "(9, 65289, 'CIFTI_STRUCTURE_CEREBELLUM_LEFT')\n",
      "(10, 73998, 'CIFTI_STRUCTURE_CEREBELLUM_RIGHT')\n"
     ]
    },
    {
     "name": "stderr",
     "output_type": "stream",
     "text": [
      "pixdim[1,2,3] should be non-zero; setting 0 dims to 1\n",
      "pixdim[1,2,3] should be non-zero; setting 0 dims to 1\n"
     ]
    },
    {
     "name": "stdout",
     "output_type": "stream",
     "text": [
      "(11, 83142, 'CIFTI_STRUCTURE_DIENCEPHALON_VENTRAL_LEFT')\n",
      "(12, 83848, 'CIFTI_STRUCTURE_DIENCEPHALON_VENTRAL_RIGHT')\n",
      "(13, 84560, 'CIFTI_STRUCTURE_HIPPOCAMPUS_LEFT')\n",
      "(14, 85324, 'CIFTI_STRUCTURE_HIPPOCAMPUS_RIGHT')\n",
      "(15, 86119, 'CIFTI_STRUCTURE_PALLIDUM_LEFT')\n",
      "(16, 86416, 'CIFTI_STRUCTURE_PALLIDUM_RIGHT')\n",
      "(17, 86676, 'CIFTI_STRUCTURE_PUTAMEN_LEFT')\n",
      "(18, 87736, 'CIFTI_STRUCTURE_PUTAMEN_RIGHT')\n",
      "(19, 88746, 'CIFTI_STRUCTURE_THALAMUS_LEFT')\n",
      "(20, 90034, 'CIFTI_STRUCTURE_THALAMUS_RIGHT')\n",
      "(0, 0, 'CIFTI_STRUCTURE_CORTEX_LEFT')\n",
      "(1, 29696, 'CIFTI_STRUCTURE_CORTEX_RIGHT')\n",
      "(2, 59412, 'CIFTI_STRUCTURE_ACCUMBENS_LEFT')\n",
      "(3, 59547, 'CIFTI_STRUCTURE_ACCUMBENS_RIGHT')\n",
      "(4, 59687, 'CIFTI_STRUCTURE_AMYGDALA_LEFT')\n",
      "(5, 60002, 'CIFTI_STRUCTURE_AMYGDALA_RIGHT')\n",
      "(6, 60334, 'CIFTI_STRUCTURE_BRAIN_STEM')\n",
      "(7, 63806, 'CIFTI_STRUCTURE_CAUDATE_LEFT')\n",
      "(8, 64534, 'CIFTI_STRUCTURE_CAUDATE_RIGHT')\n",
      "(9, 65289, 'CIFTI_STRUCTURE_CEREBELLUM_LEFT')\n",
      "(10, 73998, 'CIFTI_STRUCTURE_CEREBELLUM_RIGHT')\n",
      "(11, 83142, 'CIFTI_STRUCTURE_DIENCEPHALON_VENTRAL_LEFT')\n"
     ]
    },
    {
     "name": "stderr",
     "output_type": "stream",
     "text": [
      "pixdim[1,2,3] should be non-zero; setting 0 dims to 1\n",
      "pixdim[1,2,3] should be non-zero; setting 0 dims to 1\n"
     ]
    },
    {
     "name": "stdout",
     "output_type": "stream",
     "text": [
      "(12, 83848, 'CIFTI_STRUCTURE_DIENCEPHALON_VENTRAL_RIGHT')\n",
      "(13, 84560, 'CIFTI_STRUCTURE_HIPPOCAMPUS_LEFT')\n",
      "(14, 85324, 'CIFTI_STRUCTURE_HIPPOCAMPUS_RIGHT')\n",
      "(15, 86119, 'CIFTI_STRUCTURE_PALLIDUM_LEFT')\n",
      "(16, 86416, 'CIFTI_STRUCTURE_PALLIDUM_RIGHT')\n",
      "(17, 86676, 'CIFTI_STRUCTURE_PUTAMEN_LEFT')\n",
      "(18, 87736, 'CIFTI_STRUCTURE_PUTAMEN_RIGHT')\n",
      "(19, 88746, 'CIFTI_STRUCTURE_THALAMUS_LEFT')\n",
      "(20, 90034, 'CIFTI_STRUCTURE_THALAMUS_RIGHT')\n",
      "(0, 0, 'CIFTI_STRUCTURE_CORTEX_LEFT')\n",
      "(1, 29696, 'CIFTI_STRUCTURE_CORTEX_RIGHT')\n",
      "(2, 59412, 'CIFTI_STRUCTURE_ACCUMBENS_LEFT')\n",
      "(3, 59547, 'CIFTI_STRUCTURE_ACCUMBENS_RIGHT')\n",
      "(4, 59687, 'CIFTI_STRUCTURE_AMYGDALA_LEFT')\n",
      "(5, 60002, 'CIFTI_STRUCTURE_AMYGDALA_RIGHT')\n",
      "(6, 60334, 'CIFTI_STRUCTURE_BRAIN_STEM')\n",
      "(7, 63806, 'CIFTI_STRUCTURE_CAUDATE_LEFT')\n",
      "(8, 64534, 'CIFTI_STRUCTURE_CAUDATE_RIGHT')\n",
      "(9, 65289, 'CIFTI_STRUCTURE_CEREBELLUM_LEFT')\n",
      "(10, 73998, 'CIFTI_STRUCTURE_CEREBELLUM_RIGHT')\n",
      "(11, 83142, 'CIFTI_STRUCTURE_DIENCEPHALON_VENTRAL_LEFT')\n",
      "(12, 83848, 'CIFTI_STRUCTURE_DIENCEPHALON_VENTRAL_RIGHT')\n",
      "(13, 84560, 'CIFTI_STRUCTURE_HIPPOCAMPUS_LEFT')\n",
      "(14, 85324, 'CIFTI_STRUCTURE_HIPPOCAMPUS_RIGHT')\n",
      "(15, 86119, 'CIFTI_STRUCTURE_PALLIDUM_LEFT')\n"
     ]
    },
    {
     "name": "stderr",
     "output_type": "stream",
     "text": [
      "pixdim[1,2,3] should be non-zero; setting 0 dims to 1\n",
      "pixdim[1,2,3] should be non-zero; setting 0 dims to 1\n"
     ]
    },
    {
     "name": "stdout",
     "output_type": "stream",
     "text": [
      "(16, 86416, 'CIFTI_STRUCTURE_PALLIDUM_RIGHT')\n",
      "(17, 86676, 'CIFTI_STRUCTURE_PUTAMEN_LEFT')\n",
      "(18, 87736, 'CIFTI_STRUCTURE_PUTAMEN_RIGHT')\n",
      "(19, 88746, 'CIFTI_STRUCTURE_THALAMUS_LEFT')\n",
      "(20, 90034, 'CIFTI_STRUCTURE_THALAMUS_RIGHT')\n",
      "(0, 0, 'CIFTI_STRUCTURE_CORTEX_LEFT')\n",
      "(1, 29696, 'CIFTI_STRUCTURE_CORTEX_RIGHT')\n",
      "(2, 59412, 'CIFTI_STRUCTURE_ACCUMBENS_LEFT')\n",
      "(3, 59547, 'CIFTI_STRUCTURE_ACCUMBENS_RIGHT')\n",
      "(4, 59687, 'CIFTI_STRUCTURE_AMYGDALA_LEFT')\n",
      "(5, 60002, 'CIFTI_STRUCTURE_AMYGDALA_RIGHT')\n",
      "(6, 60334, 'CIFTI_STRUCTURE_BRAIN_STEM')\n",
      "(7, 63806, 'CIFTI_STRUCTURE_CAUDATE_LEFT')\n",
      "(8, 64534, 'CIFTI_STRUCTURE_CAUDATE_RIGHT')\n",
      "(9, 65289, 'CIFTI_STRUCTURE_CEREBELLUM_LEFT')\n",
      "(10, 73998, 'CIFTI_STRUCTURE_CEREBELLUM_RIGHT')\n"
     ]
    },
    {
     "name": "stderr",
     "output_type": "stream",
     "text": [
      "pixdim[1,2,3] should be non-zero; setting 0 dims to 1\n",
      "pixdim[1,2,3] should be non-zero; setting 0 dims to 1\n"
     ]
    },
    {
     "name": "stdout",
     "output_type": "stream",
     "text": [
      "(11, 83142, 'CIFTI_STRUCTURE_DIENCEPHALON_VENTRAL_LEFT')\n",
      "(12, 83848, 'CIFTI_STRUCTURE_DIENCEPHALON_VENTRAL_RIGHT')\n",
      "(13, 84560, 'CIFTI_STRUCTURE_HIPPOCAMPUS_LEFT')\n",
      "(14, 85324, 'CIFTI_STRUCTURE_HIPPOCAMPUS_RIGHT')\n",
      "(15, 86119, 'CIFTI_STRUCTURE_PALLIDUM_LEFT')\n",
      "(16, 86416, 'CIFTI_STRUCTURE_PALLIDUM_RIGHT')\n",
      "(17, 86676, 'CIFTI_STRUCTURE_PUTAMEN_LEFT')\n",
      "(18, 87736, 'CIFTI_STRUCTURE_PUTAMEN_RIGHT')\n",
      "(19, 88746, 'CIFTI_STRUCTURE_THALAMUS_LEFT')\n",
      "(20, 90034, 'CIFTI_STRUCTURE_THALAMUS_RIGHT')\n",
      "(0, 0, 'CIFTI_STRUCTURE_CORTEX_LEFT')\n",
      "(1, 29696, 'CIFTI_STRUCTURE_CORTEX_RIGHT')\n",
      "(2, 59412, 'CIFTI_STRUCTURE_ACCUMBENS_LEFT')\n",
      "(3, 59547, 'CIFTI_STRUCTURE_ACCUMBENS_RIGHT')\n",
      "(4, 59687, 'CIFTI_STRUCTURE_AMYGDALA_LEFT')\n",
      "(5, 60002, 'CIFTI_STRUCTURE_AMYGDALA_RIGHT')\n",
      "(6, 60334, 'CIFTI_STRUCTURE_BRAIN_STEM')\n",
      "(7, 63806, 'CIFTI_STRUCTURE_CAUDATE_LEFT')\n",
      "(8, 64534, 'CIFTI_STRUCTURE_CAUDATE_RIGHT')\n",
      "(9, 65289, 'CIFTI_STRUCTURE_CEREBELLUM_LEFT')\n",
      "(10, 73998, 'CIFTI_STRUCTURE_CEREBELLUM_RIGHT')\n",
      "(11, 83142, 'CIFTI_STRUCTURE_DIENCEPHALON_VENTRAL_LEFT')\n",
      "(12, 83848, 'CIFTI_STRUCTURE_DIENCEPHALON_VENTRAL_RIGHT')\n",
      "(13, 84560, 'CIFTI_STRUCTURE_HIPPOCAMPUS_LEFT')\n",
      "(14, 85324, 'CIFTI_STRUCTURE_HIPPOCAMPUS_RIGHT')\n",
      "(15, 86119, 'CIFTI_STRUCTURE_PALLIDUM_LEFT')\n",
      "(16, 86416, 'CIFTI_STRUCTURE_PALLIDUM_RIGHT')\n"
     ]
    },
    {
     "name": "stderr",
     "output_type": "stream",
     "text": [
      "pixdim[1,2,3] should be non-zero; setting 0 dims to 1\n",
      "pixdim[1,2,3] should be non-zero; setting 0 dims to 1\n"
     ]
    },
    {
     "name": "stdout",
     "output_type": "stream",
     "text": [
      "(17, 86676, 'CIFTI_STRUCTURE_PUTAMEN_LEFT')\n",
      "(18, 87736, 'CIFTI_STRUCTURE_PUTAMEN_RIGHT')\n",
      "(19, 88746, 'CIFTI_STRUCTURE_THALAMUS_LEFT')\n",
      "(20, 90034, 'CIFTI_STRUCTURE_THALAMUS_RIGHT')\n",
      "(0, 0, 'CIFTI_STRUCTURE_CORTEX_LEFT')\n",
      "(1, 29696, 'CIFTI_STRUCTURE_CORTEX_RIGHT')\n",
      "(2, 59412, 'CIFTI_STRUCTURE_ACCUMBENS_LEFT')\n",
      "(3, 59547, 'CIFTI_STRUCTURE_ACCUMBENS_RIGHT')\n",
      "(4, 59687, 'CIFTI_STRUCTURE_AMYGDALA_LEFT')\n",
      "(5, 60002, 'CIFTI_STRUCTURE_AMYGDALA_RIGHT')\n",
      "(6, 60334, 'CIFTI_STRUCTURE_BRAIN_STEM')\n",
      "(7, 63806, 'CIFTI_STRUCTURE_CAUDATE_LEFT')\n",
      "(8, 64534, 'CIFTI_STRUCTURE_CAUDATE_RIGHT')\n",
      "(9, 65289, 'CIFTI_STRUCTURE_CEREBELLUM_LEFT')\n",
      "(10, 73998, 'CIFTI_STRUCTURE_CEREBELLUM_RIGHT')\n",
      "(11, 83142, 'CIFTI_STRUCTURE_DIENCEPHALON_VENTRAL_LEFT')\n",
      "(12, 83848, 'CIFTI_STRUCTURE_DIENCEPHALON_VENTRAL_RIGHT')\n",
      "(13, 84560, 'CIFTI_STRUCTURE_HIPPOCAMPUS_LEFT')\n",
      "(14, 85324, 'CIFTI_STRUCTURE_HIPPOCAMPUS_RIGHT')\n",
      "(15, 86119, 'CIFTI_STRUCTURE_PALLIDUM_LEFT')\n",
      "(16, 86416, 'CIFTI_STRUCTURE_PALLIDUM_RIGHT')"
     ]
    },
    {
     "name": "stderr",
     "output_type": "stream",
     "text": [
      "pixdim[1,2,3] should be non-zero; setting 0 dims to 1\n",
      "pixdim[1,2,3] should be non-zero; setting 0 dims to 1\n"
     ]
    },
    {
     "name": "stdout",
     "output_type": "stream",
     "text": [
      "\n",
      "(17, 86676, 'CIFTI_STRUCTURE_PUTAMEN_LEFT')\n",
      "(18, 87736, 'CIFTI_STRUCTURE_PUTAMEN_RIGHT')\n",
      "(19, 88746, 'CIFTI_STRUCTURE_THALAMUS_LEFT')\n",
      "(20, 90034, 'CIFTI_STRUCTURE_THALAMUS_RIGHT')\n",
      "(0, 0, 'CIFTI_STRUCTURE_CORTEX_LEFT')\n",
      "(1, 29696, 'CIFTI_STRUCTURE_CORTEX_RIGHT')\n",
      "(2, 59412, 'CIFTI_STRUCTURE_ACCUMBENS_LEFT')\n",
      "(3, 59547, 'CIFTI_STRUCTURE_ACCUMBENS_RIGHT')\n",
      "(4, 59687, 'CIFTI_STRUCTURE_AMYGDALA_LEFT')\n",
      "(5, 60002, 'CIFTI_STRUCTURE_AMYGDALA_RIGHT')\n",
      "(6, 60334, 'CIFTI_STRUCTURE_BRAIN_STEM')\n",
      "(7, 63806, 'CIFTI_STRUCTURE_CAUDATE_LEFT')\n",
      "(8, 64534, 'CIFTI_STRUCTURE_CAUDATE_RIGHT')\n",
      "(9, 65289, 'CIFTI_STRUCTURE_CEREBELLUM_LEFT')\n",
      "(10, 73998, 'CIFTI_STRUCTURE_CEREBELLUM_RIGHT')\n",
      "(11, 83142, 'CIFTI_STRUCTURE_DIENCEPHALON_VENTRAL_LEFT')\n",
      "(12, 83848, 'CIFTI_STRUCTURE_DIENCEPHALON_VENTRAL_RIGHT')\n",
      "(13, 84560, 'CIFTI_STRUCTURE_HIPPOCAMPUS_LEFT')\n",
      "(14, 85324, 'CIFTI_STRUCTURE_HIPPOCAMPUS_RIGHT')\n",
      "(15, 86119, 'CIFTI_STRUCTURE_PALLIDUM_LEFT')\n",
      "(16, 86416, 'CIFTI_STRUCTURE_PALLIDUM_RIGHT')\n"
     ]
    },
    {
     "name": "stderr",
     "output_type": "stream",
     "text": [
      "pixdim[1,2,3] should be non-zero; setting 0 dims to 1\n",
      "pixdim[1,2,3] should be non-zero; setting 0 dims to 1\n"
     ]
    },
    {
     "name": "stdout",
     "output_type": "stream",
     "text": [
      "(17, 86676, 'CIFTI_STRUCTURE_PUTAMEN_LEFT')\n",
      "(18, 87736, 'CIFTI_STRUCTURE_PUTAMEN_RIGHT')\n",
      "(19, 88746, 'CIFTI_STRUCTURE_THALAMUS_LEFT')\n",
      "(20, 90034, 'CIFTI_STRUCTURE_THALAMUS_RIGHT')\n",
      "(0, 0, 'CIFTI_STRUCTURE_CORTEX_LEFT')\n",
      "(1, 29696, 'CIFTI_STRUCTURE_CORTEX_RIGHT')\n",
      "(2, 59412, 'CIFTI_STRUCTURE_ACCUMBENS_LEFT')\n",
      "(3, 59547, 'CIFTI_STRUCTURE_ACCUMBENS_RIGHT')\n",
      "(4, 59687, 'CIFTI_STRUCTURE_AMYGDALA_LEFT')\n",
      "(5, 60002, 'CIFTI_STRUCTURE_AMYGDALA_RIGHT')\n",
      "(6, 60334, 'CIFTI_STRUCTURE_BRAIN_STEM')\n",
      "(7, 63806, 'CIFTI_STRUCTURE_CAUDATE_LEFT')\n",
      "(8, 64534, 'CIFTI_STRUCTURE_CAUDATE_RIGHT')\n",
      "(9, 65289, 'CIFTI_STRUCTURE_CEREBELLUM_LEFT')\n",
      "(10, 73998, 'CIFTI_STRUCTURE_CEREBELLUM_RIGHT')\n",
      "(11, 83142, 'CIFTI_STRUCTURE_DIENCEPHALON_VENTRAL_LEFT')"
     ]
    },
    {
     "name": "stderr",
     "output_type": "stream",
     "text": [
      "pixdim[1,2,3] should be non-zero; setting 0 dims to 1\n",
      "pixdim[1,2,3] should be non-zero; setting 0 dims to 1\n"
     ]
    },
    {
     "name": "stdout",
     "output_type": "stream",
     "text": [
      "\n",
      "(12, 83848, 'CIFTI_STRUCTURE_DIENCEPHALON_VENTRAL_RIGHT')\n",
      "(13, 84560, 'CIFTI_STRUCTURE_HIPPOCAMPUS_LEFT')\n",
      "(14, 85324, 'CIFTI_STRUCTURE_HIPPOCAMPUS_RIGHT')\n",
      "(15, 86119, 'CIFTI_STRUCTURE_PALLIDUM_LEFT')\n",
      "(16, 86416, 'CIFTI_STRUCTURE_PALLIDUM_RIGHT')\n",
      "(17, 86676, 'CIFTI_STRUCTURE_PUTAMEN_LEFT')\n",
      "(18, 87736, 'CIFTI_STRUCTURE_PUTAMEN_RIGHT')\n",
      "(19, 88746, 'CIFTI_STRUCTURE_THALAMUS_LEFT')\n",
      "(20, 90034, 'CIFTI_STRUCTURE_THALAMUS_RIGHT')\n",
      "(0, 0, 'CIFTI_STRUCTURE_CORTEX_LEFT')\n",
      "(1, 29696, 'CIFTI_STRUCTURE_CORTEX_RIGHT')\n",
      "(2, 59412, 'CIFTI_STRUCTURE_ACCUMBENS_LEFT')\n",
      "(3, 59547, 'CIFTI_STRUCTURE_ACCUMBENS_RIGHT')\n",
      "(4, 59687, 'CIFTI_STRUCTURE_AMYGDALA_LEFT')\n",
      "(5, 60002, 'CIFTI_STRUCTURE_AMYGDALA_RIGHT')\n",
      "(6, 60334, 'CIFTI_STRUCTURE_BRAIN_STEM')\n",
      "(7, 63806, 'CIFTI_STRUCTURE_CAUDATE_LEFT')\n",
      "(8, 64534, 'CIFTI_STRUCTURE_CAUDATE_RIGHT')\n",
      "(9, 65289, 'CIFTI_STRUCTURE_CEREBELLUM_LEFT')\n",
      "(10, 73998, 'CIFTI_STRUCTURE_CEREBELLUM_RIGHT')\n",
      "(11, 83142, 'CIFTI_STRUCTURE_DIENCEPHALON_VENTRAL_LEFT')\n",
      "(12, 83848, 'CIFTI_STRUCTURE_DIENCEPHALON_VENTRAL_RIGHT')\n",
      "(13, 84560, 'CIFTI_STRUCTURE_HIPPOCAMPUS_LEFT')"
     ]
    },
    {
     "name": "stderr",
     "output_type": "stream",
     "text": [
      "pixdim[1,2,3] should be non-zero; setting 0 dims to 1\n",
      "pixdim[1,2,3] should be non-zero; setting 0 dims to 1\n"
     ]
    },
    {
     "name": "stdout",
     "output_type": "stream",
     "text": [
      "\n",
      "(14, 85324, 'CIFTI_STRUCTURE_HIPPOCAMPUS_RIGHT')\n",
      "(15, 86119, 'CIFTI_STRUCTURE_PALLIDUM_LEFT')\n",
      "(16, 86416, 'CIFTI_STRUCTURE_PALLIDUM_RIGHT')\n",
      "(17, 86676, 'CIFTI_STRUCTURE_PUTAMEN_LEFT')\n",
      "(18, 87736, 'CIFTI_STRUCTURE_PUTAMEN_RIGHT')\n",
      "(19, 88746, 'CIFTI_STRUCTURE_THALAMUS_LEFT')\n",
      "(20, 90034, 'CIFTI_STRUCTURE_THALAMUS_RIGHT')\n",
      "(0, 0, 'CIFTI_STRUCTURE_CORTEX_LEFT')\n",
      "(1, 29696, 'CIFTI_STRUCTURE_CORTEX_RIGHT')\n",
      "(2, 59412, 'CIFTI_STRUCTURE_ACCUMBENS_LEFT')\n",
      "(3, 59547, 'CIFTI_STRUCTURE_ACCUMBENS_RIGHT')\n",
      "(4, 59687, 'CIFTI_STRUCTURE_AMYGDALA_LEFT')\n",
      "(5, 60002, 'CIFTI_STRUCTURE_AMYGDALA_RIGHT')\n",
      "(6, 60334, 'CIFTI_STRUCTURE_BRAIN_STEM')\n",
      "(7, 63806, 'CIFTI_STRUCTURE_CAUDATE_LEFT')\n",
      "(8, 64534, 'CIFTI_STRUCTURE_CAUDATE_RIGHT')\n",
      "(9, 65289, 'CIFTI_STRUCTURE_CEREBELLUM_LEFT')\n",
      "(10, 73998, 'CIFTI_STRUCTURE_CEREBELLUM_RIGHT')\n",
      "(11, 83142, 'CIFTI_STRUCTURE_DIENCEPHALON_VENTRAL_LEFT')\n",
      "(12, 83848, 'CIFTI_STRUCTURE_DIENCEPHALON_VENTRAL_RIGHT')\n",
      "(13, 84560, 'CIFTI_STRUCTURE_HIPPOCAMPUS_LEFT')\n",
      "(14, 85324, 'CIFTI_STRUCTURE_HIPPOCAMPUS_RIGHT')\n",
      "(15, 86119, 'CIFTI_STRUCTURE_PALLIDUM_LEFT')\n",
      "(16, 86416, 'CIFTI_STRUCTURE_PALLIDUM_RIGHT')\n",
      "(17, 86676, 'CIFTI_STRUCTURE_PUTAMEN_LEFT')\n",
      "(18, 87736, 'CIFTI_STRUCTURE_PUTAMEN_RIGHT')\n",
      "(19, 88746, 'CIFTI_STRUCTURE_THALAMUS_LEFT')\n",
      "(20, 90034, 'CIFTI_STRUCTURE_THALAMUS_RIGHT')\n"
     ]
    }
   ],
   "source": [
    "### Transform to dscalar format\n",
    "files = os.listdir(directory) #This is to update list of files in directory\n",
    "for y in files:\n",
    "    if y.endswith('.npy'):\n",
    "        res = nib.load(directory2 + '/hcp.tmp.lh.dscalar.nii').get_data()\n",
    "        cortL = np.squeeze(np.array(np.where(res != 0)[0], dtype=np.int32))\n",
    "        res = nib.load(directory2 + '/hcp.tmp.rh.dscalar.nii').get_data()\n",
    "        cortR = np.squeeze(np.array(np.where(res != 0)[0], dtype=np.int32))\n",
    "        cortLen = len(cortL) + len(cortR)\n",
    "        del res\n",
    "        emb = np.load(y)\n",
    "        emb.shape\n",
    "        emb.shape = (91282, 1)\n",
    "        tmp = nib.load('comparison_R1midcog_vs_R2midcog_peakfconn1003.dscalar.nii') #Just to take the shape; has to be dscalar with one map, and brain only\n",
    "        tmp_cifti = nib.cifti2.load('comparison_R1midcog_vs_R2midcog_peakfconn1003.dscalar.nii')\n",
    "        data = tmp_cifti.get_data() * 0\n",
    "        mim = tmp.header.matrix[1]\n",
    "        for idx, bm in enumerate(mim.brain_models):\n",
    "            print ((idx, bm.index_offset, bm.brain_structure))\n",
    "        img = nib.cifti2.Cifti2Image(emb.T, nib.cifti2.Cifti2Header(tmp.header.matrix))\n",
    "        img.to_filename(y + '.dscalar.nii')"
   ]
  },
  {
   "cell_type": "code",
   "execution_count": null,
   "metadata": {
    "collapsed": true
   },
   "outputs": [],
   "source": [
    "### 5) Open corrected maps with wb_view and use a threshold of 0.05"
   ]
  }
 ],
 "metadata": {
  "kernelspec": {
   "display_name": "Python 3",
   "language": "python",
   "name": "python3"
  },
  "language_info": {
   "codemirror_mode": {
    "name": "ipython",
    "version": 3
   },
   "file_extension": ".py",
   "mimetype": "text/x-python",
   "name": "python",
   "nbconvert_exporter": "python",
   "pygments_lexer": "ipython3",
   "version": "3.6.3"
  }
 },
 "nbformat": 4,
 "nbformat_minor": 2
}
