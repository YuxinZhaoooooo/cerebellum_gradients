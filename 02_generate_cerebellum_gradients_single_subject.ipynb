{
 "cells": [
  {
   "cell_type": "code",
   "execution_count": null,
   "metadata": {
    "collapsed": true,
    "deletable": true,
    "editable": true
   },
   "outputs": [],
   "source": [
    "### Initial directory must contain the following files: rfMRI_REST1_LR_Atlas_hp2000_clean.dtseries.nii from subject 100307 \n",
    "### (downloaded from HCP website), cope1.dtseries.nii (one random cope file from the HCP project), \n",
    "### dscalar_names.txt (text file with eight columns including the numbers from 1 to 8), \n",
    "### Cerebellum-MNIfnirt-maxprob-thr25.nii (cerebellum atlas, will be used to isolate cerebellum), \n",
    "### mapalign folder (add it to initial folder), hcp.tmp.lh.dscalar.nii and \n",
    "### hcp.tmp.rh.dscalar.nii (from the HCP project) and the mapalign folder.\n",
    "### These are included in folder \"files_for_calculating_gradients_single_subject\", with the exception of \n",
    "### rfMRI_REST1_LR_Atlas_hp2000_clean.dtseries.nii.\n",
    "### Also, workbench command (wb_command), Matlab and SUIT toolbox must work in current machine"
   ]
  },
  {
   "cell_type": "code",
   "execution_count": null,
   "metadata": {
    "collapsed": true,
    "deletable": true,
    "editable": true
   },
   "outputs": [],
   "source": [
    "import subprocess\n",
    "import numpy as np\n",
    "import nibabel as nib\n",
    "from sklearn.metrics import pairwise_distances\n",
    "import sys\n",
    "sys.path.append(\"./mapalign\")\n",
    "from mapalign import embed\n",
    "from PIL import Image"
   ]
  },
  {
   "cell_type": "code",
   "execution_count": null,
   "metadata": {
    "collapsed": true,
    "deletable": true,
    "editable": true
   },
   "outputs": [],
   "source": [
    "cd /files_for_calculating_gradients_single_subject"
   ]
  },
  {
   "cell_type": "code",
   "execution_count": null,
   "metadata": {
    "collapsed": true
   },
   "outputs": [],
   "source": [
    "### single subject dense connectivity map generated from HCP subject 100307,\n",
    "### file rfMRI_REST1_LR_Atlas_hp2000_clean.dtseries.nii  as follows:\n",
    "### wb_command -cifti-correlation rfMRI_REST1_LR_Atlas_hp2000_clean.dtseries.nii singlesubject.dconn.nii -fisher-z "
   ]
  },
  {
   "cell_type": "code",
   "execution_count": null,
   "metadata": {
    "collapsed": true,
    "deletable": true,
    "editable": true
   },
   "outputs": [],
   "source": [
    "### Restrict dconn file so that it includes cerebellum only\n",
    "import subprocess\n",
    "subprocess.check_output(\"wb_command -cifti-restrict-dense-map singlesubject.dconn.nii COLUMN singlesubject_cerebellumonly_step1.dconn.nii -vol-roi Cerebellum-MNIfnirt-maxprob-thr25.nii\", shell=True);\n",
    "subprocess.check_output(\"wb_command -cifti-restrict-dense-map singlesubject_cerebellumonly_step1.dconn.nii ROW singlesubject_cerebellumonly_step2.dconn.nii -vol-roi Cerebellum-MNIfnirt-maxprob-thr25.nii\", shell=True);"
   ]
  },
  {
   "cell_type": "code",
   "execution_count": null,
   "metadata": {
    "collapsed": true,
    "deletable": true,
    "editable": true
   },
   "outputs": [],
   "source": [
    "### Generate dscalar file which includes the cerebellum only and has 8 maps (which is the number of gradients that the following steps will want to generate):\n",
    "subprocess.check_output(\"wb_command -cifti-restrict-dense-map cope1.dtseries.nii COLUMN singles_cope1_cerebellumonly.dtseries.nii -vol-roi Cerebellum-MNIfnirt-maxprob-thr25.nii\", shell=True);\n",
    "subprocess.check_output(\"wb_command -cifti-merge singles_mergedfile8_cerebellumonly.dtseries.nii -cifti singles_cope1_cerebellumonly.dtseries.nii -cifti singles_cope1_cerebellumonly.dtseries.nii -cifti singles_cope1_cerebellumonly.dtseries.nii -cifti singles_cope1_cerebellumonly.dtseries.nii -cifti singles_cope1_cerebellumonly.dtseries.nii -cifti singles_cope1_cerebellumonly.dtseries.nii -cifti singles_cope1_cerebellumonly.dtseries.nii -cifti singles_cope1_cerebellumonly.dtseries.nii\", shell=True);\n",
    "subprocess.check_output(\"wb_command -cifti-change-mapping mergedfile8_cerebellumonly.dtseries.nii ROW mergedfile8_cerebellumonly.dscalar.nii -scalar -name-file dscalar_names.txt\", shell=True);"
   ]
  },
  {
   "cell_type": "code",
   "execution_count": null,
   "metadata": {
    "collapsed": true,
    "deletable": true,
    "editable": true
   },
   "outputs": [],
   "source": [
    "### Generate .dscalar file containing gradients\n",
    "import numpy as np\n",
    "import nibabel as nib\n",
    "from sklearn.metrics import pairwise_distances\n",
    "dcon = np.tanh(nib.load('singlesubject_cerebellumonly_step2.dconn.nii').get_data())\n",
    "N = dcon.shape[0]\n",
    "perc = np.array([np.percentile(x, 90) for x in dcon])\n",
    "for i in range(dcon.shape[0]):\n",
    "    print \"Row %d\" % i\n",
    "    dcon[i, dcon[i,:] < perc[i]] = 0\n",
    "dcon[dcon < 0] = 0\n",
    "aff = 1 - pairwise_distances(dcon, metric = 'cosine')\n",
    "np.save('singles_cosine_affinity_cerebellumonly.npy', aff)\n",
    "aff = np.load('singles_cosine_affinity_cerebellumonly.npy')\n",
    "import sys\n",
    "sys.path.append(\"./mapalign\")\n",
    "from mapalign import embed\n",
    "emb, res = embed.compute_diffusion_map(aff, alpha = 0.5)\n",
    "np.save('singles_embedding_dense_cerebellumonly_emb.npy', emb)\n",
    "np.save('singles_embedding_dense_cerebellumonly_res.npy', res)\n",
    "\n",
    "res = np.load('singles_embedding_dense_cerebellumonly_res.npy').item()\n",
    "a = [res['vectors'][:,i]/ res['vectors'][:,0] for i in range(134)]\n",
    "emb = np.array(a)[1:,:].T\n",
    "len(emb)\n",
    "res = nib.load('hcp.tmp.lh.dscalar.nii').get_data()\n",
    "cortL = np.squeeze(np.array(np.where(res != 0) [0], dtype=np.int32))\n",
    "res = nib.load('hcp.tmp.rh.dscalar.nii').get_data()\n",
    "cortR = np.squeeze(np.array(np.where(res != 0) [0], dtype=np.int32))\n",
    "corLen = len(cortL) + len(cortR)\n",
    "del res\n",
    "emb = np.load('singles_embedding_dense_cerebellumonly_emb.npy')\n",
    "emb.shape\n",
    "tmp = nib.load('singles_mergedfile8_cerebellumonly.dscalar.nii')\n",
    "tmp_cifti = nib.cifti2.load('singles_mergedfile8_cerebellumonly.dscalar.nii')\n",
    "data = tmp_cifti.get_data() * 0\n",
    "mim = tmp.header.matrix[1]\n",
    "for idx, bm in enumerate(mim.brain_models):\n",
    "    print ((idx, bm.index_offset, bm.brain_structure))\n",
    "img = nib.cifti2.Cifti2Image(emb.T, nib.cifti2.Cifti2Header(tmp.header.matrix))\n",
    "img.to_filename('singles_result_cerebellumonly.dscalar.nii')"
   ]
  },
  {
   "cell_type": "code",
   "execution_count": null,
   "metadata": {
    "collapsed": true,
    "deletable": true,
    "editable": true
   },
   "outputs": [],
   "source": [
    "### Separate each gradient in a different dscalar file\n",
    "import nibabel as nib\n",
    "import numpy as np\n",
    "res = nib.load('/om/user/xaviergp/GRADIENT_PROJECT/gradient_data/templates/hcp.tmp.lh.dscalar.nii').get_data()\n",
    "cortL = np.squeeze(np.array(np.where(res != 0)[0], dtype=np.int32))\n",
    "res = nib.load('/om/user/xaviergp/GRADIENT_PROJECT/gradient_data/templates/hcp.tmp.rh.dscalar.nii').get_data()\n",
    "cortR = np.squeeze(np.array(np.where(res != 0)[0], dtype=np.int32))\n",
    "cortLen = len(cortL) + len(cortR)\n",
    "del res\n",
    "emb = np.load('singles_embedding_dense_cerebellumonly_emb.npy')\n",
    "tmp = nib.load('singles_cope1_cerebellumonly.dscalar.nii')\n",
    "tmp_cifti = nib.cifti2.load('singles_cope1_cerebellumonly.dscalar.nii')\n",
    "data = tmp_cifti.get_data() * 0\n",
    "mim = tmp.header.matrix[1]\n",
    "for idx, bm in enumerate(mim.brain_models):\n",
    "    print ((idx, bm.index_offset, bm.brain_structure))\n",
    "emb_temporary = emb[:,0]\n",
    "emb_temporary = emb_temporary.T\n",
    "emb_temporary.shape = (1, 17729)\n",
    "img = nib.cifti2.Cifti2Image(emb_temporary, nib.cifti2.Cifti2Header(tmp.header.matrix))\n",
    "img.to_filename('singles_result_cerebellumonly_gradient1.dscalar.nii')\n",
    "emb_temporary = emb[:,1]\n",
    "emb_temporary = emb_temporary.T\n",
    "emb_temporary.shape = (1, 17729)\n",
    "img = nib.cifti2.Cifti2Image(emb_temporary, nib.cifti2.Cifti2Header(tmp.header.matrix))\n",
    "img.to_filename('singles_result_cerebellumonly_gradient2.dscalar.nii')\n",
    "emb_temporary = emb[:,2]\n",
    "emb_temporary = emb_temporary.T\n",
    "emb_temporary.shape = (1, 17729)\n",
    "img = nib.cifti2.Cifti2Image(emb_temporary, nib.cifti2.Cifti2Header(tmp.header.matrix))\n",
    "img.to_filename('singles_result_cerebellumonly_gradient3.dscalar.nii')\n",
    "emb_temporary = emb[:,3]\n",
    "emb_temporary = emb_temporary.T\n",
    "emb_temporary.shape = (1, 17729)\n",
    "img = nib.cifti2.Cifti2Image(emb_temporary, nib.cifti2.Cifti2Header(tmp.header.matrix))\n",
    "img.to_filename('singles_result_cerebellumonly_gradient4.dscalar.nii')\n",
    "emb_temporary = emb[:,4]\n",
    "emb_temporary = emb_temporary.T\n",
    "emb_temporary.shape = (1, 17729)\n",
    "img = nib.cifti2.Cifti2Image(emb_temporary, nib.cifti2.Cifti2Header(tmp.header.matrix))\n",
    "img.to_filename('singles_result_cerebellumonly_gradient5.dscalar.nii')\n",
    "emb_temporary = emb[:,5]\n",
    "emb_temporary = emb_temporary.T\n",
    "emb_temporary.shape = (1, 17729)\n",
    "img = nib.cifti2.Cifti2Image(emb_temporary, nib.cifti2.Cifti2Header(tmp.header.matrix))\n",
    "img.to_filename('singles_result_cerebellumonly_gradient6.dscalar.nii')\n",
    "emb_temporary = emb[:,6]\n",
    "emb_temporary = emb_temporary.T\n",
    "emb_temporary.shape = (1, 17729)\n",
    "img = nib.cifti2.Cifti2Image(emb_temporary, nib.cifti2.Cifti2Header(tmp.header.matrix))\n",
    "img.to_filename('singles_result_cerebellumonly_gradient7.dscalar.nii')\n",
    "emb_temporary = emb[:,7]\n",
    "emb_temporary = emb_temporary.T\n",
    "emb_temporary.shape = (1, 17729)\n",
    "img = nib.cifti2.Cifti2Image(emb_temporary, nib.cifti2.Cifti2Header(tmp.header.matrix))\n",
    "img.to_filename('singles_result_cerebellumonly_gradient8.dscalar.nii')"
   ]
  },
  {
   "cell_type": "code",
   "execution_count": null,
   "metadata": {
    "collapsed": true,
    "deletable": true,
    "editable": true
   },
   "outputs": [],
   "source": [
    "### Transform from dscalar to nifti format\n",
    "import subprocess\n",
    "subprocess.check_output(\"wb_command -cifti-separate \\\n",
    "singles_result_cerebellumonly_gradient1.dscalar.nii COLUMN -volume-all  \\\n",
    "singles_result_cerebellumonly_gradient1_nifti.nii\", shell=True);\n",
    "subprocess.check_output(\"wb_command -cifti-separate \\\n",
    "singles_result_cerebellumonly_gradient2.dscalar.nii COLUMN -volume-all \\\n",
    "singles_result_cerebellumonly_gradient2_nifti.nii\", shell=True);\n",
    "subprocess.check_output(\"wb_command -cifti-separate \\\n",
    "singles_result_cerebellumonly_gradient3.dscalar.nii COLUMN -volume-all \\\n",
    "singles_result_cerebellumonly_gradient3_nifti.nii\", shell=True);\n",
    "subprocess.check_output(\"wb_command -cifti-separate \\\n",
    "singles_result_cerebellumonly_gradient4.dscalar.nii COLUMN -volume-all \\\n",
    "singles_result_cerebellumonly_gradient4_nifti.nii\", shell=True);\n",
    "subprocess.check_output(\"wb_command -cifti-separate \\\n",
    "singles_result_cerebellumonly_gradient5.dscalar.nii COLUMN -volume-all \\\n",
    "singles_result_cerebellumonly_gradient5_nifti.nii\", shell=True);\n",
    "subprocess.check_output(\"wb_command -cifti-separate \\\n",
    "singles_result_cerebellumonly_gradient6.dscalar.nii COLUMN -volume-all \\\n",
    "singles_result_cerebellumonly_gradient6_nifti.nii\", shell=True);\n",
    "subprocess.check_output(\"wb_command -cifti-separate \\\n",
    "singles_result_cerebellumonly_gradient7.dscalar.nii COLUMN -volume-all \\\n",
    "singles_result_cerebellumonly_gradient7_nifti.nii\", shell=True);\n",
    "subprocess.check_output(\"wb_command -cifti-separate \\\n",
    "singles_result_cerebellumonly_gradient8.dscalar.nii COLUMN -volume-all \\\n",
    "singles_result_cerebellumonly_gradient8_nifti.nii\", shell=True);"
   ]
  },
  {
   "cell_type": "code",
   "execution_count": null,
   "metadata": {
    "collapsed": true,
    "deletable": true,
    "editable": true
   },
   "outputs": [],
   "source": [
    "### Show gradients in cerebellum flatmap\n",
    "subprocess.check_output('scp singles_result_cerebellumonly_gradient1_nifti.nii \\\n",
    "image_nifti.nii', shell=True);\n",
    "subprocess.check_output('bash call_matlab.sh', shell=True);\n",
    "Image.open('image.jpg').show()\n",
    "\n",
    "subprocess.check_output('scp singles_result_cerebellumonly_gradient2_nifti.nii \\\n",
    "image_nifti.nii', shell=True);\n",
    "subprocess.check_output('bash call_matlab.sh', shell=True);\n",
    "Image.open('image.jpg').show()\n",
    "\n",
    "subprocess.check_output('scp singles_result_cerebellumonly_gradient3_nifti.nii \\\n",
    "image_nifti.nii', shell=True);\n",
    "subprocess.check_output('bash call_matlab.sh', shell=True);\n",
    "Image.open('image.jpg').show()\n",
    "\n",
    "subprocess.check_output('scp singles_result_cerebellumonly_gradient4_nifti.nii \\\n",
    "image_nifti.nii', shell=True);\n",
    "subprocess.check_output('bash call_matlab.sh', shell=True);\n",
    "Image.open('image.jpg').show()\n",
    "\n",
    "subprocess.check_output('scp singles_result_cerebellumonly_gradient5_nifti.nii \\\n",
    "image_nifti.nii', shell=True);\n",
    "subprocess.check_output('bash call_matlab.sh', shell=True);\n",
    "Image.open('image.jpg').show()\n",
    "\n",
    "subprocess.check_output('scp singles_result_cerebellumonly_gradient6_nifti.nii \\\n",
    "image_nifti.nii', shell=True);\n",
    "subprocess.check_output('bash call_matlab.sh', shell=True);\n",
    "Image.open('image.jpg').show()\n",
    "\n",
    "subprocess.check_output('scp singles_result_cerebellumonly_gradient7_nifti.nii \\\n",
    "image_nifti.nii', shell=True);\n",
    "subprocess.check_output('bash call_matlab.sh', shell=True);\n",
    "Image.open('image.jpg').show()\n",
    "\n",
    "subprocess.check_output('scp singles_result_cerebellumonly_gradient8_nifti.nii \\\n",
    "image_nifti.nii', shell=True);\n",
    "subprocess.check_output('bash call_matlab.sh', shell=True);\n",
    "Image.open('image.jpg').show()\n"
   ]
  },
  {
   "cell_type": "code",
   "execution_count": null,
   "metadata": {
    "collapsed": true,
    "deletable": true,
    "editable": true
   },
   "outputs": [],
   "source": [
    "### call_matlab.sh contains the following:\n",
    "# matlab -nodesktop -nosplash -r \"run codetomovetoSUITspaceandplotflatmap.m\"\n",
    "\n",
    "### codetomovetoSUITspaceandplotflatmap.m contains the following:\n",
    "#addpath /spm12\n",
    "#addpath /spm12/compat\n",
    "#addpath /spm12/toolbox/DARTEL\n",
    "#addpath /spm12/toolbox/suit\n",
    "#job.subj.affineTr = {'/Affine_MNI152_T1_2mm_seg1.mat'};\n",
    "#job.subj.flowfield = {'/u_a_MNI152_T1_2mm_seg1.nii,1'};\n",
    "#job.subj.resample = {'image_nifti.nii,1'};\n",
    "#job.subj.mask = {'/c_MNI152_T1_2mm_pcereb.nii,1'};\n",
    "#job.interp = 0;\n",
    "#job.prefix = 'wc';\n",
    "#\n",
    "#suit_reslice_dartel(job)\n",
    "#\n",
    "#figure\n",
    "#Data = suit_map2surf('/wcimage_nifti.nii','space','SUIT', 'stats',@mode)\n",
    "#suit_plotflatmap(Data,'cmap',jet)\n",
    "#savefig('figure')\n",
    "#fig = openfig('figure.fig');\n",
    "#filename = 'image.jpg';\n",
    "#saveas(fig, filename)\n",
    "#clearvars\n",
    "\n",
    "### The files Affine_MNI152_T1_2mm_seg1.mat, u_a_MNI152_T1_2mm_seg1.nii and c_MNI152_T1_2mm_pcereb.nii\n",
    "### are generated using the \"isolate\" and \"normalize using Dartel\" of the SUIT toolbox (http://www.diedrichsenlab.org/imaging/suit_function.htm)\n",
    "### MNI152_T1_2mm is the structural space used in the Human Connectome Project."
   ]
  },
  {
   "cell_type": "code",
   "execution_count": null,
   "metadata": {
    "collapsed": true,
    "deletable": true,
    "editable": true
   },
   "outputs": [],
   "source": [
    "### individual subject gradients are smoothed with the following command:\n",
    "### wb_command cifti-smoothing singles_result_cerebellumonly_gradient1.dscalar.nii 4 4 COLUMN singles_result_cerebellumonly_gradient1_smooth4.dscalar.nii\n",
    "### wb_command cifti-smoothing singles_result_cerebellumonly_gradient1.dscalar.nii 10 10 COLUMN singles_result_cerebellumonly_gradient1_smooth10.dscalar.nii"
   ]
  }
 ],
 "metadata": {
  "kernelspec": {
   "display_name": "Python 2",
   "language": "python",
   "name": "python2"
  },
  "language_info": {
   "codemirror_mode": {
    "name": "ipython",
    "version": 2
   },
   "file_extension": ".py",
   "mimetype": "text/x-python",
   "name": "python",
   "nbconvert_exporter": "python",
   "pygments_lexer": "ipython2",
   "version": "2.7.13"
  }
 },
 "nbformat": 4,
 "nbformat_minor": 2
}
