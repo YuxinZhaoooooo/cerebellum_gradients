{
 "cells": [
  {
   "cell_type": "code",
   "execution_count": null,
   "metadata": {
    "collapsed": true
   },
   "outputs": [],
   "source": [
    "import subprocess\n",
    "import scipy as scipy\n",
    "import scipy.cluster as scipycluster\n",
    "import nibabel as nib\n",
    "import nibabel.gifti\n",
    "import nilearn\n",
    "from nilearn import datasets, plotting\n",
    "import sys\n",
    "import pandas as pd\n",
    "import numpy as np\n",
    "import os\n",
    "import matplotlib as mpl\n",
    "import matplotlib.pyplot as plt\n",
    "import pylab as plt\n",
    "from matplotlib.colors import ListedColormap\n",
    "mpl.rcParams['svg.fonttype'] = 'none'\n",
    "import sys\n",
    "sys.path.append('gradient_data/src/')\n",
    "from PIL import Image\n",
    "import sklearn\n",
    "from sklearn.cluster import KMeans, SpectralClustering\n",
    "from sklearn.preprocessing import Normalizer, StandardScaler\n",
    "from sklearn import metrics\n",
    "import matplotlib.pyplot as plt"
   ]
  },
  {
   "cell_type": "code",
   "execution_count": null,
   "metadata": {
    "collapsed": true
   },
   "outputs": [],
   "source": [
    "cd /files_for_calculating_gradients_group"
   ]
  },
  {
   "cell_type": "code",
   "execution_count": null,
   "metadata": {
    "collapsed": true
   },
   "outputs": [],
   "source": [
    "### Calculate silhouette score for spectral clustering, 8 gradients with normalization, for 2 to 50 clusters\n",
    "res = nib.load('result_cerebellumonly.dscalar.nii').get_data()\n",
    "res.shape = (8, 18142)\n",
    "\n",
    "listofnumbers = {}\n",
    "for i in range(2,51):\n",
    "    print('processing:   ' + str(i))\n",
    "    cls = KMeans(n_clusters=i)\n",
    "    #data = (res[[0, 1, 2, 3, 4, 5, 6, 7], :].T) #no normalization\n",
    "    data = (StandardScaler().fit_transform(res[[0, 1, 2, 3, 4, 5, 6, 7], :].T)) #normalization\n",
    "    cls.fit(data)\n",
    "    listofnumbers[i] = metrics.silhouette_score(data, cls.labels_, metric='euclidean', sample_size=None, random_state=None)\n",
    "    print('processed:   ' + str(i))\n",
    "\n",
    "### Plot graph\n",
    "plt.plot(list(listofnumbers.keys()),list(listofnumbers.values()))\n",
    "plt.show()\n",
    "\n",
    "### better graph aesthetics\n",
    "plt.plot(list(listofnumbers.keys()),list(listofnumbers.values()), 'k-')\n",
    "plt.ylabel('Silhouette Coefficient', fontsize=14)\n",
    "plt.xlabel('Number of clusters', fontsize=14)\n",
    "plt.locator_params(axis='x', tight=True, nbins=100)\n",
    "plt.title('Spectral clustering', fontsize=18)\n",
    "plt.savefig(os.path.abspath('image.png'), format='png', dpi=600, transparent=False)\n",
    "plt.show()"
   ]
  },
  {
   "cell_type": "code",
   "execution_count": null,
   "metadata": {
    "collapsed": true
   },
   "outputs": [],
   "source": [
    "### Plot to flatmap\n",
    "np.save('image.npy', cls.labels_)\n",
    "import nibabel as nib\n",
    "import numpy as np\n",
    "res = nib.load('hcp.tmp.lh.dscalar.nii').get_data()\n",
    "cortL = np.squeeze(np.array(np.where(res != 0)[0], dtype=np.int32))\n",
    "res = nib.load('hcp.tmp.rh.dscalar.nii').get_data()\n",
    "cortR = np.squeeze(np.array(np.where(res != 0)[0], dtype=np.int32))\n",
    "cortLen = len(cortL) + len(cortR)\n",
    "del res\n",
    "emb = np.load('image.npy')\n",
    "emb.shape\n",
    "emb.shape = (18142, 1) # so that it is (18142, 1) instead of (18142, )\n",
    "tmp = nib.load('cope1_cerebellumonly.dscalar.nii') #has to be dscalar with one map, and only cerebellum\n",
    "tmp_cifti = nib.cifti2.load('cope1_cerebellumonly.dscalar.nii')\n",
    "data = tmp_cifti.get_data() * 0\n",
    "mim = tmp.header.matrix[1]\n",
    "for idx, bm in enumerate(mim.brain_models):\n",
    "    print ((idx, bm.index_offset, bm.brain_structure))\n",
    "img = nib.cifti2.Cifti2Image(emb.T, nib.cifti2.Cifti2Header(tmp.header.matrix))\n",
    "img.to_filename('image.dscalar.nii')\n",
    "subprocess.check_output(\"wb_command -cifti-separate image.dscalar.nii COLUMN -volume-all image_nifti.nii\", shell=True);\n",
    "subprocess.check_output('bash call_matlab.sh', shell=True);\n",
    "Image.open('image.jpg').show()"
   ]
  },
  {
   "cell_type": "code",
   "execution_count": null,
   "metadata": {
    "collapsed": true
   },
   "outputs": [],
   "source": [
    "### call_matlab.sh contains the following:\n",
    "# matlab -nodesktop -nosplash -r \"run codetomovetoSUITspaceandplotflatmap.m\"\n",
    "\n",
    "### codetomovetoSUITspaceandplotflatmap.m contains the following:\n",
    "#addpath /spm12\n",
    "#addpath /spm12/compat\n",
    "#addpath /spm12/toolbox/DARTEL\n",
    "#addpath /spm12/toolbox/suit\n",
    "#job.subj.affineTr = {'/Affine_MNI152_T1_2mm_seg1.mat'};\n",
    "#job.subj.flowfield = {'/u_a_MNI152_T1_2mm_seg1.nii,1'};\n",
    "#job.subj.resample = {'image_nifti.nii,1'};\n",
    "#job.subj.mask = {'/c_MNI152_T1_2mm_pcereb.nii,1'};\n",
    "#job.interp = 0;\n",
    "#job.prefix = 'wc';\n",
    "#\n",
    "#suit_reslice_dartel(job)\n",
    "\n",
    "#figure\n",
    "#Data = suit_map2surf('image_nifti.nii','space','SUIT', 'stats',@mode)\n",
    "#suit_plotflatmap(Data,'type','label')\n",
    "#savefig('image')\n",
    "#fig = openfig('image.fig');\n",
    "#filename = 'image.jpg';\n",
    "#saveas(fig, filename)\n",
    "\n",
    "#clearvars\n",
    "\n",
    "### The files Affine_MNI152_T1_2mm_seg1.mat, u_a_MNI152_T1_2mm_seg1.nii and c_MNI152_T1_2mm_pcereb.nii\n",
    "### are generated using the \"isolate\" and \"normalize using Dartel\" of the SUIT toolbox (http://www.diedrichsenlab.org/imaging/suit_function.htm)\n",
    "### MNI152_T1_2mm is the structural space used in the Human Connectome Project."
   ]
  },
  {
   "cell_type": "code",
   "execution_count": null,
   "metadata": {
    "collapsed": true
   },
   "outputs": [],
   "source": [
    "### Calculate silhouette score for k-means clustering, 8 gradients with normalization, for 2 to 50 clusters\n",
    "res = nib.load('result_cerebellumonly.dscalar.nii').get_data()\n",
    "res.shape = (8, 18142)\n",
    "listofnumbers = {}\n",
    "for i in range(2,16):\n",
    "    print('processing:   ' + str(i))\n",
    "    cls = KMeans(n_clusters=i)\n",
    "    #data = (res[[0, 1, 2, 3, 4, 5, 6, 7], :].T) ### No normalization\n",
    "    data = (StandardScaler().fit_transform(res[[0, 1, 2, 3, 4, 5, 6, 7], :].T)) ### Normalization\n",
    "    cls.fit(data)\n",
    "    listofnumbers[i] = metrics.silhouette_score(data, cls.labels_, metric='euclidean', sample_size=None, random_state=None)\n",
    "    print('processed:   ' + str(i))\n",
    "\n",
    "# Plot graph\n",
    "plt.plot(list(listofnumbers.keys()),list(listofnumbers.values()))\n",
    "plt.show()\n",
    "\n",
    "### better graph aesthetics\n",
    "plt.plot(list(listofnumbers.keys()),list(listofnumbers.values()), 'k-')\n",
    "plt.ylabel('Silhouette Coefficient', fontsize=14)\n",
    "plt.xlabel('Number of clusters', fontsize=14)\n",
    "plt.locator_params(axis='x', tight=True, nbins=100)\n",
    "plt.title('K-means clustering', fontsize=18)\n",
    "plt.savefig(os.path.abspath('image.png'), format='png', dpi=600, transparent=False)\n",
    "plt.show()"
   ]
  },
  {
   "cell_type": "code",
   "execution_count": null,
   "metadata": {
    "collapsed": true
   },
   "outputs": [],
   "source": [
    "### Plot to flatmap\n",
    "np.save('image.npy', cls.labels_)\n",
    "import nibabel as nib\n",
    "import numpy as np\n",
    "res = nib.load('hcp.tmp.lh.dscalar.nii').get_data()\n",
    "cortL = np.squeeze(np.array(np.where(res != 0)[0], dtype=np.int32))\n",
    "res = nib.load('hcp.tmp.rh.dscalar.nii').get_data()\n",
    "cortR = np.squeeze(np.array(np.where(res != 0)[0], dtype=np.int32))\n",
    "cortLen = len(cortL) + len(cortR)\n",
    "del res\n",
    "emb = np.load('image.npy')\n",
    "emb.shape\n",
    "emb.shape = (18142, 1) # so that it is (18142, 1) instead of (18142, )\n",
    "tmp = nib.load('cope1_cerebellumonly.dscalar.nii') #has to be dscalar with one map, and only cerebellum\n",
    "tmp_cifti = nib.cifti2.load('cope1_cerebellumonly.dscalar.nii')\n",
    "data = tmp_cifti.get_data() * 0\n",
    "mim = tmp.header.matrix[1]\n",
    "for idx, bm in enumerate(mim.brain_models):\n",
    "    print ((idx, bm.index_offset, bm.brain_structure))\n",
    "img = nib.cifti2.Cifti2Image(emb.T, nib.cifti2.Cifti2Header(tmp.header.matrix))\n",
    "img.to_filename('image.dscalar.nii')\n",
    "subprocess.check_output(\"wb_command -cifti-separate image.dscalar.nii COLUMN -volume-all image_nifti.nii\", shell=True);\n",
    "subprocess.check_output('bash call_matlab.sh', shell=True);\n",
    "Image.open('image.jpg').show()"
   ]
  },
  {
   "cell_type": "code",
   "execution_count": null,
   "metadata": {
    "collapsed": true
   },
   "outputs": [],
   "source": [
    "### Calculate k-means clustering for the first two gradients with 5 clusters and no normalization\n",
    "\n",
    "res = nib.load('result_cerebellumonly.dscalar.nii').get_data()\n",
    "res.shape = (8, 18142)\n",
    "\n",
    "cls = KMeans(n_clusters=5)\n",
    "data = (res[[0, 1], :].T) ### No normalization\n",
    "cls.fit(data)\n",
    "\n",
    "### Plot to flatmap\n",
    "np.save('image.npy', cls.labels_)\n",
    "import nibabel as nib\n",
    "import numpy as np\n",
    "res = nib.load('hcp.tmp.lh.dscalar.nii').get_data()\n",
    "cortL = np.squeeze(np.array(np.where(res != 0)[0], dtype=np.int32))\n",
    "res = nib.load('hcp.tmp.rh.dscalar.nii').get_data()\n",
    "cortR = np.squeeze(np.array(np.where(res != 0)[0], dtype=np.int32))\n",
    "cortLen = len(cortL) + len(cortR)\n",
    "del res\n",
    "emb = np.load('image.npy')\n",
    "emb.shape\n",
    "emb.shape = (18142, 1) # so that it is (18142, 1) instead of (18142, )\n",
    "tmp = nib.load('cope1_cerebellumonly.dscalar.nii') #has to be dscalar with one map, and only cerebellum\n",
    "tmp_cifti = nib.cifti2.load('cope1_cerebellumonly.dscalar.nii')\n",
    "data = tmp_cifti.get_data() * 0\n",
    "mim = tmp.header.matrix[1]\n",
    "for idx, bm in enumerate(mim.brain_models):\n",
    "    print ((idx, bm.index_offset, bm.brain_structure))\n",
    "img = nib.cifti2.Cifti2Image(emb.T, nib.cifti2.Cifti2Header(tmp.header.matrix))\n",
    "img.to_filename('image.dscalar.nii')\n",
    "subprocess.check_output(\"wb_command -cifti-separate image.dscalar.nii COLUMN -volume-all image_nifti.nii\", shell=True);\n",
    "subprocess.check_output('bash call_matlab.sh', shell=True);\n",
    "Image.open('image.jpg').show()"
   ]
  }
 ],
 "metadata": {
  "kernelspec": {
   "display_name": "Python 2",
   "language": "python",
   "name": "python2"
  },
  "language_info": {
   "codemirror_mode": {
    "name": "ipython",
    "version": 2
   },
   "file_extension": ".py",
   "mimetype": "text/x-python",
   "name": "python",
   "nbconvert_exporter": "python",
   "pygments_lexer": "ipython2",
   "version": "2.7.13"
  }
 },
 "nbformat": 4,
 "nbformat_minor": 2
}
